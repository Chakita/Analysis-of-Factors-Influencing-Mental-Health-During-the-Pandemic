{
  "nbformat": 4,
  "nbformat_minor": 0,
  "metadata": {
    "colab": {
      "name": "Adaboost+XGBoost.ipynb",
      "provenance": []
    },
    "kernelspec": {
      "name": "python3",
      "display_name": "Python 3"
    },
    "language_info": {
      "name": "python"
    }
  },
  "cells": [
    {
      "cell_type": "code",
      "metadata": {
        "colab": {
          "base_uri": "https://localhost:8080/"
        },
        "id": "uPkBlUp3Hiz6",
        "outputId": "00741a75-8109-406a-b30a-c77a90cb00e4"
      },
      "source": [
        "import pandas as pd\n",
        "from google.colab import drive\n",
        "drive.mount('/content/drive')"
      ],
      "execution_count": null,
      "outputs": [
        {
          "output_type": "stream",
          "name": "stdout",
          "text": [
            "Mounted at /content/drive\n"
          ]
        }
      ]
    },
    {
      "cell_type": "markdown",
      "metadata": {
        "id": "IOuRoNLiiZFt"
      },
      "source": [
        "# Preprocessing Data and merging stringency index and health expenditure"
      ]
    },
    {
      "cell_type": "code",
      "metadata": {
        "id": "7Kxt6AbQKrw7"
      },
      "source": [
        "clean_cd_df = pd.read_csv(\"/content/drive/MyDrive/DA_Project_files/All_datasets/Covidistress_final.csv\")\n",
        "health_expend_df = pd.read_csv(\"/content/drive/MyDrive/DA_Project_files/All_datasets/Healthcare_expenditure.csv\")\n",
        "string_ind_df = pd.read_csv(\"/content/drive/MyDrive/DA_Project_files/All_datasets/covid-stringency-index.csv\")\n"
      ],
      "execution_count": null,
      "outputs": []
    },
    {
      "cell_type": "code",
      "metadata": {
        "id": "ArdMap0EMAyO"
      },
      "source": [
        "clean_cd_df['avg_stress'] = (clean_cd_df['Scale_PSS10_UCLA_1']+ clean_cd_df['Scale_PSS10_UCLA_1']+clean_cd_df['Scale_PSS10_UCLA_2']+clean_cd_df['Scale_PSS10_UCLA_3']+clean_cd_df['Scale_PSS10_UCLA_4']+clean_cd_df['Scale_PSS10_UCLA_5']+clean_cd_df['Scale_PSS10_UCLA_6']+clean_cd_df['Scale_PSS10_UCLA_7']+clean_cd_df['Scale_PSS10_UCLA_8']+clean_cd_df['Scale_PSS10_UCLA_9']+clean_cd_df['Scale_PSS10_UCLA_10'])/10"
      ],
      "execution_count": null,
      "outputs": []
    },
    {
      "cell_type": "code",
      "metadata": {
        "id": "88K_PU3IPJa5"
      },
      "source": [
        "clean_cd_df = clean_cd_df.loc[clean_cd_df['avg_stress'] != 0]"
      ],
      "execution_count": null,
      "outputs": []
    },
    {
      "cell_type": "code",
      "metadata": {
        "id": "1VHpnpJKS53L"
      },
      "source": [
        "health_expend_df = health_expend_df.drop(health_expend_df.index[0])"
      ],
      "execution_count": null,
      "outputs": []
    },
    {
      "cell_type": "code",
      "metadata": {
        "id": "fHNA_N7sVPeR"
      },
      "source": [
        "health_expend_df = health_expend_df.drop(labels = ['Unnamed: 1','Unnamed: 2', 'Unnamed: 3'] , axis = 1)"
      ],
      "execution_count": null,
      "outputs": []
    },
    {
      "cell_type": "code",
      "metadata": {
        "colab": {
          "base_uri": "https://localhost:8080/",
          "height": 1000
        },
        "id": "aacMhuEUYkrL",
        "outputId": "d68e0968-7afd-44bc-b309-d84785b765ec"
      },
      "source": [
        "health_expend_df.fillna(0)"
      ],
      "execution_count": null,
      "outputs": [
        {
          "output_type": "execute_result",
          "data": {
            "text/html": [
              "<div>\n",
              "<style scoped>\n",
              "    .dataframe tbody tr th:only-of-type {\n",
              "        vertical-align: middle;\n",
              "    }\n",
              "\n",
              "    .dataframe tbody tr th {\n",
              "        vertical-align: top;\n",
              "    }\n",
              "\n",
              "    .dataframe thead th {\n",
              "        text-align: right;\n",
              "    }\n",
              "</style>\n",
              "<table border=\"1\" class=\"dataframe\">\n",
              "  <thead>\n",
              "    <tr style=\"text-align: right;\">\n",
              "      <th></th>\n",
              "      <th>Year</th>\n",
              "      <th>2010</th>\n",
              "      <th>2011</th>\n",
              "      <th>2012</th>\n",
              "      <th>2013</th>\n",
              "      <th>2014</th>\n",
              "      <th>2015</th>\n",
              "      <th>2016</th>\n",
              "      <th>2017</th>\n",
              "      <th>2018</th>\n",
              "      <th>2019</th>\n",
              "      <th>2020</th>\n",
              "    </tr>\n",
              "  </thead>\n",
              "  <tbody>\n",
              "    <tr>\n",
              "      <th>1</th>\n",
              "      <td>Australia</td>\n",
              "      <td>68.6</td>\n",
              "      <td>69.2</td>\n",
              "      <td>67.5</td>\n",
              "      <td>65.0</td>\n",
              "      <td>64.7</td>\n",
              "      <td>65.8</td>\n",
              "      <td>66.0</td>\n",
              "      <td>66.3</td>\n",
              "      <td>66.6</td>\n",
              "      <td>68.7</td>\n",
              "      <td>..</td>\n",
              "    </tr>\n",
              "    <tr>\n",
              "      <th>2</th>\n",
              "      <td>Austria</td>\n",
              "      <td>74.6</td>\n",
              "      <td>74.6</td>\n",
              "      <td>74.7</td>\n",
              "      <td>74.0</td>\n",
              "      <td>74.0</td>\n",
              "      <td>74.1</td>\n",
              "      <td>74.0</td>\n",
              "      <td>74.0</td>\n",
              "      <td>74.8</td>\n",
              "      <td>75.2</td>\n",
              "      <td>76.4</td>\n",
              "    </tr>\n",
              "    <tr>\n",
              "      <th>3</th>\n",
              "      <td>Belgium</td>\n",
              "      <td>76.1</td>\n",
              "      <td>76.1</td>\n",
              "      <td>76.6</td>\n",
              "      <td>76.1</td>\n",
              "      <td>76.4</td>\n",
              "      <td>75.9</td>\n",
              "      <td>77.3</td>\n",
              "      <td>77.4</td>\n",
              "      <td>76.9</td>\n",
              "      <td>76.8</td>\n",
              "      <td>..</td>\n",
              "    </tr>\n",
              "    <tr>\n",
              "      <th>4</th>\n",
              "      <td>Canada</td>\n",
              "      <td>69.9</td>\n",
              "      <td>70.2</td>\n",
              "      <td>70.4</td>\n",
              "      <td>70.7</td>\n",
              "      <td>70.6</td>\n",
              "      <td>70.6</td>\n",
              "      <td>69.7</td>\n",
              "      <td>69.8</td>\n",
              "      <td>70.2</td>\n",
              "      <td>70.2</td>\n",
              "      <td>..</td>\n",
              "    </tr>\n",
              "    <tr>\n",
              "      <th>5</th>\n",
              "      <td>Chile</td>\n",
              "      <td>59.0</td>\n",
              "      <td>59.5</td>\n",
              "      <td>60.0</td>\n",
              "      <td>59.4</td>\n",
              "      <td>58.9</td>\n",
              "      <td>58.7</td>\n",
              "      <td>58.5</td>\n",
              "      <td>60.1</td>\n",
              "      <td>60.3</td>\n",
              "      <td>60.6</td>\n",
              "      <td>62.8</td>\n",
              "    </tr>\n",
              "    <tr>\n",
              "      <th>6</th>\n",
              "      <td>Colombia</td>\n",
              "      <td>74.8</td>\n",
              "      <td>76.0</td>\n",
              "      <td>73.9</td>\n",
              "      <td>75.6</td>\n",
              "      <td>76.2</td>\n",
              "      <td>76.3</td>\n",
              "      <td>76.1</td>\n",
              "      <td>76.6</td>\n",
              "      <td>77.3</td>\n",
              "      <td>77.5</td>\n",
              "      <td>..</td>\n",
              "    </tr>\n",
              "    <tr>\n",
              "      <th>7</th>\n",
              "      <td>Costa Rica</td>\n",
              "      <td>73.1</td>\n",
              "      <td>73.0</td>\n",
              "      <td>74.1</td>\n",
              "      <td>74.9</td>\n",
              "      <td>73.0</td>\n",
              "      <td>74.8</td>\n",
              "      <td>75.1</td>\n",
              "      <td>75.0</td>\n",
              "      <td>73.8</td>\n",
              "      <td>73.9</td>\n",
              "      <td>..</td>\n",
              "    </tr>\n",
              "    <tr>\n",
              "      <th>8</th>\n",
              "      <td>Czech Republic</td>\n",
              "      <td>83.3</td>\n",
              "      <td>83.9</td>\n",
              "      <td>83.7</td>\n",
              "      <td>83.6</td>\n",
              "      <td>82.7</td>\n",
              "      <td>82.4</td>\n",
              "      <td>82.0</td>\n",
              "      <td>82.1</td>\n",
              "      <td>83.0</td>\n",
              "      <td>81.8</td>\n",
              "      <td>..</td>\n",
              "    </tr>\n",
              "    <tr>\n",
              "      <th>9</th>\n",
              "      <td>Denmark</td>\n",
              "      <td>83.9</td>\n",
              "      <td>83.6</td>\n",
              "      <td>84.0</td>\n",
              "      <td>84.3</td>\n",
              "      <td>84.2</td>\n",
              "      <td>84.2</td>\n",
              "      <td>84.1</td>\n",
              "      <td>84.0</td>\n",
              "      <td>83.9</td>\n",
              "      <td>83.3</td>\n",
              "      <td>..</td>\n",
              "    </tr>\n",
              "    <tr>\n",
              "      <th>10</th>\n",
              "      <td>Estonia</td>\n",
              "      <td>76.3</td>\n",
              "      <td>76.7</td>\n",
              "      <td>76.7</td>\n",
              "      <td>75.6</td>\n",
              "      <td>75.7</td>\n",
              "      <td>75.6</td>\n",
              "      <td>75.7</td>\n",
              "      <td>73.6</td>\n",
              "      <td>73.7</td>\n",
              "      <td>74.5</td>\n",
              "      <td>78.2</td>\n",
              "    </tr>\n",
              "    <tr>\n",
              "      <th>11</th>\n",
              "      <td>Finland</td>\n",
              "      <td>77.1</td>\n",
              "      <td>77.6</td>\n",
              "      <td>78.2</td>\n",
              "      <td>78.0</td>\n",
              "      <td>78.0</td>\n",
              "      <td>76.9</td>\n",
              "      <td>76.2</td>\n",
              "      <td>76.4</td>\n",
              "      <td>76.9</td>\n",
              "      <td>77.8</td>\n",
              "      <td>..</td>\n",
              "    </tr>\n",
              "    <tr>\n",
              "      <th>12</th>\n",
              "      <td>France</td>\n",
              "      <td>76.3</td>\n",
              "      <td>76.0</td>\n",
              "      <td>76.1</td>\n",
              "      <td>76.2</td>\n",
              "      <td>76.5</td>\n",
              "      <td>76.6</td>\n",
              "      <td>83.0</td>\n",
              "      <td>83.2</td>\n",
              "      <td>83.5</td>\n",
              "      <td>83.7</td>\n",
              "      <td>..</td>\n",
              "    </tr>\n",
              "    <tr>\n",
              "      <th>13</th>\n",
              "      <td>Germany</td>\n",
              "      <td>83.2</td>\n",
              "      <td>83.1</td>\n",
              "      <td>83.0</td>\n",
              "      <td>83.8</td>\n",
              "      <td>84.2</td>\n",
              "      <td>84.2</td>\n",
              "      <td>84.3</td>\n",
              "      <td>84.5</td>\n",
              "      <td>84.5</td>\n",
              "      <td>84.6</td>\n",
              "      <td>85.1</td>\n",
              "    </tr>\n",
              "    <tr>\n",
              "      <th>14</th>\n",
              "      <td>Greece</td>\n",
              "      <td>68.9</td>\n",
              "      <td>65.7</td>\n",
              "      <td>66.1</td>\n",
              "      <td>61.7</td>\n",
              "      <td>57.7</td>\n",
              "      <td>57.6</td>\n",
              "      <td>60.7</td>\n",
              "      <td>60.5</td>\n",
              "      <td>58.4</td>\n",
              "      <td>59.8</td>\n",
              "      <td>..</td>\n",
              "    </tr>\n",
              "    <tr>\n",
              "      <th>15</th>\n",
              "      <td>Hungary</td>\n",
              "      <td>67.1</td>\n",
              "      <td>66.5</td>\n",
              "      <td>65.5</td>\n",
              "      <td>66.6</td>\n",
              "      <td>67.1</td>\n",
              "      <td>68.2</td>\n",
              "      <td>68.1</td>\n",
              "      <td>68.8</td>\n",
              "      <td>69.9</td>\n",
              "      <td>68.3</td>\n",
              "      <td>..</td>\n",
              "    </tr>\n",
              "    <tr>\n",
              "      <th>16</th>\n",
              "      <td>Iceland</td>\n",
              "      <td>79.9</td>\n",
              "      <td>80.0</td>\n",
              "      <td>79.9</td>\n",
              "      <td>80.2</td>\n",
              "      <td>80.5</td>\n",
              "      <td>80.8</td>\n",
              "      <td>81.5</td>\n",
              "      <td>82.0</td>\n",
              "      <td>82.5</td>\n",
              "      <td>82.9</td>\n",
              "      <td>83.8</td>\n",
              "    </tr>\n",
              "    <tr>\n",
              "      <th>17</th>\n",
              "      <td>Ireland</td>\n",
              "      <td>76.2</td>\n",
              "      <td>71.9</td>\n",
              "      <td>71.7</td>\n",
              "      <td>70.6</td>\n",
              "      <td>71.0</td>\n",
              "      <td>72.0</td>\n",
              "      <td>72.7</td>\n",
              "      <td>73.0</td>\n",
              "      <td>74.1</td>\n",
              "      <td>74.6</td>\n",
              "      <td>77.1</td>\n",
              "    </tr>\n",
              "    <tr>\n",
              "      <th>18</th>\n",
              "      <td>Israel</td>\n",
              "      <td>62.8</td>\n",
              "      <td>62.6</td>\n",
              "      <td>62.6</td>\n",
              "      <td>63.4</td>\n",
              "      <td>63.1</td>\n",
              "      <td>63.4</td>\n",
              "      <td>63.3</td>\n",
              "      <td>63.9</td>\n",
              "      <td>64.6</td>\n",
              "      <td>64.8</td>\n",
              "      <td>..</td>\n",
              "    </tr>\n",
              "    <tr>\n",
              "      <th>19</th>\n",
              "      <td>Italy</td>\n",
              "      <td>78.5</td>\n",
              "      <td>77.0</td>\n",
              "      <td>75.9</td>\n",
              "      <td>75.8</td>\n",
              "      <td>75.4</td>\n",
              "      <td>74.4</td>\n",
              "      <td>74.4</td>\n",
              "      <td>73.7</td>\n",
              "      <td>73.8</td>\n",
              "      <td>73.9</td>\n",
              "      <td>76.3</td>\n",
              "    </tr>\n",
              "    <tr>\n",
              "      <th>20</th>\n",
              "      <td>Japan</td>\n",
              "      <td>81.9</td>\n",
              "      <td>83.7</td>\n",
              "      <td>83.9</td>\n",
              "      <td>84.3</td>\n",
              "      <td>84.1</td>\n",
              "      <td>84.1</td>\n",
              "      <td>84.0</td>\n",
              "      <td>84.2</td>\n",
              "      <td>83.8</td>\n",
              "      <td>83.9</td>\n",
              "      <td>..</td>\n",
              "    </tr>\n",
              "    <tr>\n",
              "      <th>21</th>\n",
              "      <td>Korea</td>\n",
              "      <td>60.9</td>\n",
              "      <td>60.0</td>\n",
              "      <td>59.1</td>\n",
              "      <td>59.1</td>\n",
              "      <td>58.8</td>\n",
              "      <td>58.9</td>\n",
              "      <td>59.0</td>\n",
              "      <td>59.6</td>\n",
              "      <td>60.1</td>\n",
              "      <td>61</td>\n",
              "      <td>62.2</td>\n",
              "    </tr>\n",
              "    <tr>\n",
              "      <th>22</th>\n",
              "      <td>Lithuania</td>\n",
              "      <td>71.7</td>\n",
              "      <td>71.0</td>\n",
              "      <td>67.3</td>\n",
              "      <td>66.2</td>\n",
              "      <td>67.6</td>\n",
              "      <td>67.1</td>\n",
              "      <td>66.6</td>\n",
              "      <td>66.1</td>\n",
              "      <td>67.2</td>\n",
              "      <td>66.4</td>\n",
              "      <td>66.4</td>\n",
              "    </tr>\n",
              "    <tr>\n",
              "      <th>23</th>\n",
              "      <td>Latvia</td>\n",
              "      <td>60.2</td>\n",
              "      <td>63.5</td>\n",
              "      <td>60.3</td>\n",
              "      <td>60.0</td>\n",
              "      <td>59.7</td>\n",
              "      <td>58.7</td>\n",
              "      <td>55.9</td>\n",
              "      <td>57.3</td>\n",
              "      <td>59.9</td>\n",
              "      <td>61.5</td>\n",
              "      <td>..</td>\n",
              "    </tr>\n",
              "    <tr>\n",
              "      <th>24</th>\n",
              "      <td>Luxembourg</td>\n",
              "      <td>84.9</td>\n",
              "      <td>83.2</td>\n",
              "      <td>82.8</td>\n",
              "      <td>83.1</td>\n",
              "      <td>83.5</td>\n",
              "      <td>83.7</td>\n",
              "      <td>83.6</td>\n",
              "      <td>84.0</td>\n",
              "      <td>84.1</td>\n",
              "      <td>85</td>\n",
              "      <td>..</td>\n",
              "    </tr>\n",
              "    <tr>\n",
              "      <th>25</th>\n",
              "      <td>Mexico</td>\n",
              "      <td>50.2</td>\n",
              "      <td>52.8</td>\n",
              "      <td>53.1</td>\n",
              "      <td>53.8</td>\n",
              "      <td>52.1</td>\n",
              "      <td>52.2</td>\n",
              "      <td>51.3</td>\n",
              "      <td>50.5</td>\n",
              "      <td>49.7</td>\n",
              "      <td>49.3</td>\n",
              "      <td>..</td>\n",
              "    </tr>\n",
              "    <tr>\n",
              "      <th>26</th>\n",
              "      <td>Netherlands</td>\n",
              "      <td>83.4</td>\n",
              "      <td>82.7</td>\n",
              "      <td>82.1</td>\n",
              "      <td>81.1</td>\n",
              "      <td>81.1</td>\n",
              "      <td>81.4</td>\n",
              "      <td>81.1</td>\n",
              "      <td>81.7</td>\n",
              "      <td>82.1</td>\n",
              "      <td>82.6</td>\n",
              "      <td>84.6</td>\n",
              "    </tr>\n",
              "    <tr>\n",
              "      <th>27</th>\n",
              "      <td>New Zealand</td>\n",
              "      <td>81.2</td>\n",
              "      <td>80.9</td>\n",
              "      <td>80.5</td>\n",
              "      <td>80.1</td>\n",
              "      <td>79.6</td>\n",
              "      <td>79.0</td>\n",
              "      <td>78.7</td>\n",
              "      <td>78.6</td>\n",
              "      <td>79.2</td>\n",
              "      <td>79.7</td>\n",
              "      <td>..</td>\n",
              "    </tr>\n",
              "    <tr>\n",
              "      <th>28</th>\n",
              "      <td>Norway</td>\n",
              "      <td>84.7</td>\n",
              "      <td>84.4</td>\n",
              "      <td>84.8</td>\n",
              "      <td>85.0</td>\n",
              "      <td>85.3</td>\n",
              "      <td>85.5</td>\n",
              "      <td>85.4</td>\n",
              "      <td>85.1</td>\n",
              "      <td>85.7</td>\n",
              "      <td>85.8</td>\n",
              "      <td>86</td>\n",
              "    </tr>\n",
              "    <tr>\n",
              "      <th>29</th>\n",
              "      <td>Poland</td>\n",
              "      <td>71.7</td>\n",
              "      <td>70.9</td>\n",
              "      <td>70.0</td>\n",
              "      <td>70.7</td>\n",
              "      <td>70.7</td>\n",
              "      <td>69.7</td>\n",
              "      <td>69.3</td>\n",
              "      <td>69.3</td>\n",
              "      <td>71.5</td>\n",
              "      <td>71.8</td>\n",
              "      <td>73.3</td>\n",
              "    </tr>\n",
              "    <tr>\n",
              "      <th>30</th>\n",
              "      <td>Portugal</td>\n",
              "      <td>66.6</td>\n",
              "      <td>64.6</td>\n",
              "      <td>61.3</td>\n",
              "      <td>62.3</td>\n",
              "      <td>61.8</td>\n",
              "      <td>61.7</td>\n",
              "      <td>61.7</td>\n",
              "      <td>61.2</td>\n",
              "      <td>61.2</td>\n",
              "      <td>61</td>\n",
              "      <td>65.1</td>\n",
              "    </tr>\n",
              "    <tr>\n",
              "      <th>31</th>\n",
              "      <td>Slovak Republic</td>\n",
              "      <td>71.9</td>\n",
              "      <td>73.8</td>\n",
              "      <td>72.2</td>\n",
              "      <td>74.2</td>\n",
              "      <td>80.2</td>\n",
              "      <td>79.7</td>\n",
              "      <td>80.4</td>\n",
              "      <td>79.9</td>\n",
              "      <td>80.1</td>\n",
              "      <td>79.8</td>\n",
              "      <td>..</td>\n",
              "    </tr>\n",
              "    <tr>\n",
              "      <th>32</th>\n",
              "      <td>Slovenia</td>\n",
              "      <td>73.4</td>\n",
              "      <td>73.4</td>\n",
              "      <td>72.0</td>\n",
              "      <td>71.4</td>\n",
              "      <td>71.1</td>\n",
              "      <td>71.8</td>\n",
              "      <td>72.7</td>\n",
              "      <td>72.2</td>\n",
              "      <td>72.8</td>\n",
              "      <td>72.8</td>\n",
              "      <td>76.2</td>\n",
              "    </tr>\n",
              "    <tr>\n",
              "      <th>33</th>\n",
              "      <td>Spain</td>\n",
              "      <td>74.4</td>\n",
              "      <td>73.5</td>\n",
              "      <td>72.1</td>\n",
              "      <td>71.0</td>\n",
              "      <td>70.3</td>\n",
              "      <td>71.3</td>\n",
              "      <td>71.6</td>\n",
              "      <td>70.5</td>\n",
              "      <td>70.3</td>\n",
              "      <td>70.6</td>\n",
              "      <td>..</td>\n",
              "    </tr>\n",
              "    <tr>\n",
              "      <th>34</th>\n",
              "      <td>Sweden</td>\n",
              "      <td>82.5</td>\n",
              "      <td>84.5</td>\n",
              "      <td>84.2</td>\n",
              "      <td>84.0</td>\n",
              "      <td>84.0</td>\n",
              "      <td>84.0</td>\n",
              "      <td>84.3</td>\n",
              "      <td>84.7</td>\n",
              "      <td>84.8</td>\n",
              "      <td>84.9</td>\n",
              "      <td>85.1</td>\n",
              "    </tr>\n",
              "    <tr>\n",
              "      <th>35</th>\n",
              "      <td>Switzerland</td>\n",
              "      <td>64.3</td>\n",
              "      <td>64.8</td>\n",
              "      <td>66.2</td>\n",
              "      <td>67.0</td>\n",
              "      <td>66.1</td>\n",
              "      <td>66.2</td>\n",
              "      <td>65.5</td>\n",
              "      <td>65.9</td>\n",
              "      <td>65.7</td>\n",
              "      <td>66.8</td>\n",
              "      <td>..</td>\n",
              "    </tr>\n",
              "    <tr>\n",
              "      <th>36</th>\n",
              "      <td>Turkey</td>\n",
              "      <td>78.0</td>\n",
              "      <td>79.1</td>\n",
              "      <td>79.2</td>\n",
              "      <td>78.4</td>\n",
              "      <td>77.6</td>\n",
              "      <td>78.1</td>\n",
              "      <td>78.4</td>\n",
              "      <td>77.7</td>\n",
              "      <td>77.4</td>\n",
              "      <td>77.9</td>\n",
              "      <td>..</td>\n",
              "    </tr>\n",
              "    <tr>\n",
              "      <th>37</th>\n",
              "      <td>United Kingdom</td>\n",
              "      <td>81.7</td>\n",
              "      <td>81.4</td>\n",
              "      <td>80.7</td>\n",
              "      <td>79.3</td>\n",
              "      <td>79.4</td>\n",
              "      <td>79.4</td>\n",
              "      <td>79.6</td>\n",
              "      <td>78.9</td>\n",
              "      <td>78.5</td>\n",
              "      <td>78.5</td>\n",
              "      <td>81.7</td>\n",
              "    </tr>\n",
              "    <tr>\n",
              "      <th>38</th>\n",
              "      <td>United States</td>\n",
              "      <td>48.7</td>\n",
              "      <td>48.8</td>\n",
              "      <td>48.7</td>\n",
              "      <td>49.4</td>\n",
              "      <td>82.6</td>\n",
              "      <td>82.7</td>\n",
              "      <td>82.6</td>\n",
              "      <td>82.6</td>\n",
              "      <td>82.8</td>\n",
              "      <td>82.7</td>\n",
              "      <td>..</td>\n",
              "    </tr>\n",
              "    <tr>\n",
              "      <th>39</th>\n",
              "      <td>China (People's Republic of)</td>\n",
              "      <td>51.9</td>\n",
              "      <td>53.7</td>\n",
              "      <td>55.7</td>\n",
              "      <td>57.1</td>\n",
              "      <td>58.4</td>\n",
              "      <td>60.2</td>\n",
              "      <td>58.1</td>\n",
              "      <td>56.7</td>\n",
              "      <td>56.6</td>\n",
              "      <td>..</td>\n",
              "      <td>..</td>\n",
              "    </tr>\n",
              "    <tr>\n",
              "      <th>40</th>\n",
              "      <td>India</td>\n",
              "      <td>25.5</td>\n",
              "      <td>28.0</td>\n",
              "      <td>27.1</td>\n",
              "      <td>22.1</td>\n",
              "      <td>22.9</td>\n",
              "      <td>25.8</td>\n",
              "      <td>27.0</td>\n",
              "      <td>27.5</td>\n",
              "      <td>27.2</td>\n",
              "      <td>..</td>\n",
              "      <td>..</td>\n",
              "    </tr>\n",
              "    <tr>\n",
              "      <th>41</th>\n",
              "      <td>Indonesia</td>\n",
              "      <td>26.3</td>\n",
              "      <td>27.6</td>\n",
              "      <td>30.5</td>\n",
              "      <td>31.9</td>\n",
              "      <td>36.1</td>\n",
              "      <td>41.6</td>\n",
              "      <td>46.4</td>\n",
              "      <td>47.2</td>\n",
              "      <td>49.9</td>\n",
              "      <td>..</td>\n",
              "      <td>..</td>\n",
              "    </tr>\n",
              "    <tr>\n",
              "      <th>42</th>\n",
              "      <td>Russia</td>\n",
              "      <td>61.4</td>\n",
              "      <td>62.7</td>\n",
              "      <td>63.7</td>\n",
              "      <td>62.4</td>\n",
              "      <td>61.8</td>\n",
              "      <td>58.7</td>\n",
              "      <td>57.0</td>\n",
              "      <td>57.1</td>\n",
              "      <td>59.5</td>\n",
              "      <td>61.2</td>\n",
              "      <td>..</td>\n",
              "    </tr>\n",
              "    <tr>\n",
              "      <th>43</th>\n",
              "      <td>South Africa</td>\n",
              "      <td>40.9</td>\n",
              "      <td>42.5</td>\n",
              "      <td>43.3</td>\n",
              "      <td>43.2</td>\n",
              "      <td>43.0</td>\n",
              "      <td>42.7</td>\n",
              "      <td>42.9</td>\n",
              "      <td>42.8</td>\n",
              "      <td>43.1</td>\n",
              "      <td>..</td>\n",
              "      <td>..</td>\n",
              "    </tr>\n",
              "  </tbody>\n",
              "</table>\n",
              "</div>"
            ],
            "text/plain": [
              "                            Year  2010  2011  2012  ...  2017  2018  2019  2020\n",
              "1                      Australia  68.6  69.2  67.5  ...  66.3  66.6  68.7    ..\n",
              "2                        Austria  74.6  74.6  74.7  ...  74.0  74.8  75.2  76.4\n",
              "3                        Belgium  76.1  76.1  76.6  ...  77.4  76.9  76.8    ..\n",
              "4                         Canada  69.9  70.2  70.4  ...  69.8  70.2  70.2    ..\n",
              "5                          Chile  59.0  59.5  60.0  ...  60.1  60.3  60.6  62.8\n",
              "6                       Colombia  74.8  76.0  73.9  ...  76.6  77.3  77.5    ..\n",
              "7                     Costa Rica  73.1  73.0  74.1  ...  75.0  73.8  73.9    ..\n",
              "8                 Czech Republic  83.3  83.9  83.7  ...  82.1  83.0  81.8    ..\n",
              "9                        Denmark  83.9  83.6  84.0  ...  84.0  83.9  83.3    ..\n",
              "10                       Estonia  76.3  76.7  76.7  ...  73.6  73.7  74.5  78.2\n",
              "11                       Finland  77.1  77.6  78.2  ...  76.4  76.9  77.8    ..\n",
              "12                        France  76.3  76.0  76.1  ...  83.2  83.5  83.7    ..\n",
              "13                       Germany  83.2  83.1  83.0  ...  84.5  84.5  84.6  85.1\n",
              "14                        Greece  68.9  65.7  66.1  ...  60.5  58.4  59.8    ..\n",
              "15                       Hungary  67.1  66.5  65.5  ...  68.8  69.9  68.3    ..\n",
              "16                       Iceland  79.9  80.0  79.9  ...  82.0  82.5  82.9  83.8\n",
              "17                       Ireland  76.2  71.9  71.7  ...  73.0  74.1  74.6  77.1\n",
              "18                        Israel  62.8  62.6  62.6  ...  63.9  64.6  64.8    ..\n",
              "19                         Italy  78.5  77.0  75.9  ...  73.7  73.8  73.9  76.3\n",
              "20                         Japan  81.9  83.7  83.9  ...  84.2  83.8  83.9    ..\n",
              "21                         Korea  60.9  60.0  59.1  ...  59.6  60.1    61  62.2\n",
              "22                     Lithuania  71.7  71.0  67.3  ...  66.1  67.2  66.4  66.4\n",
              "23                        Latvia  60.2  63.5  60.3  ...  57.3  59.9  61.5    ..\n",
              "24                    Luxembourg  84.9  83.2  82.8  ...  84.0  84.1    85    ..\n",
              "25                        Mexico  50.2  52.8  53.1  ...  50.5  49.7  49.3    ..\n",
              "26                   Netherlands  83.4  82.7  82.1  ...  81.7  82.1  82.6  84.6\n",
              "27                   New Zealand  81.2  80.9  80.5  ...  78.6  79.2  79.7    ..\n",
              "28                        Norway  84.7  84.4  84.8  ...  85.1  85.7  85.8    86\n",
              "29                        Poland  71.7  70.9  70.0  ...  69.3  71.5  71.8  73.3\n",
              "30                      Portugal  66.6  64.6  61.3  ...  61.2  61.2    61  65.1\n",
              "31               Slovak Republic  71.9  73.8  72.2  ...  79.9  80.1  79.8    ..\n",
              "32                      Slovenia  73.4  73.4  72.0  ...  72.2  72.8  72.8  76.2\n",
              "33                         Spain  74.4  73.5  72.1  ...  70.5  70.3  70.6    ..\n",
              "34                        Sweden  82.5  84.5  84.2  ...  84.7  84.8  84.9  85.1\n",
              "35                   Switzerland  64.3  64.8  66.2  ...  65.9  65.7  66.8    ..\n",
              "36                        Turkey  78.0  79.1  79.2  ...  77.7  77.4  77.9    ..\n",
              "37                United Kingdom  81.7  81.4  80.7  ...  78.9  78.5  78.5  81.7\n",
              "38                 United States  48.7  48.8  48.7  ...  82.6  82.8  82.7    ..\n",
              "39  China (People's Republic of)  51.9  53.7  55.7  ...  56.7  56.6    ..    ..\n",
              "40                         India  25.5  28.0  27.1  ...  27.5  27.2    ..    ..\n",
              "41                     Indonesia  26.3  27.6  30.5  ...  47.2  49.9    ..    ..\n",
              "42                        Russia  61.4  62.7  63.7  ...  57.1  59.5  61.2    ..\n",
              "43                  South Africa  40.9  42.5  43.3  ...  42.8  43.1    ..    ..\n",
              "\n",
              "[43 rows x 12 columns]"
            ]
          },
          "metadata": {},
          "execution_count": 7
        }
      ]
    },
    {
      "cell_type": "code",
      "metadata": {
        "id": "B4PZ-0MGZH4X"
      },
      "source": [
        "health_expend_df = health_expend_df.replace('..', int(0))"
      ],
      "execution_count": null,
      "outputs": []
    },
    {
      "cell_type": "code",
      "metadata": {
        "id": "vox63L7DaDD3"
      },
      "source": [
        "health_expend_df  = health_expend_df.astype({'2019':'float64'})"
      ],
      "execution_count": null,
      "outputs": []
    },
    {
      "cell_type": "code",
      "metadata": {
        "id": "dkkOqClUSRuk"
      },
      "source": [
        "health_expend_new_df = pd.DataFrame()\n",
        "health_expend_new_df['Country'] = health_expend_df['Year']\n",
        "\n",
        "health_expend_new_df['Avg_10-19'] = health_expend_df.mean(axis = 1)"
      ],
      "execution_count": null,
      "outputs": []
    },
    {
      "cell_type": "code",
      "metadata": {
        "id": "7FRQTvD2RbRE"
      },
      "source": [
        "combined_new_df = pd.DataFrame()\n",
        "combined_new_df = pd.merge(left = clean_cd_df, right = health_expend_new_df, how = 'left', left_on = 'Country', right_on = 'Country')"
      ],
      "execution_count": null,
      "outputs": []
    },
    {
      "cell_type": "code",
      "metadata": {
        "id": "NzZwbx3rdpeK"
      },
      "source": [
        "string_ind_df[\"Day\"]=pd.to_datetime(string_ind_df[\"Day\"])"
      ],
      "execution_count": null,
      "outputs": []
    },
    {
      "cell_type": "code",
      "metadata": {
        "id": "cDHW21nCd2c6"
      },
      "source": [
        "string_ind_df=string_ind_df[(pd.DatetimeIndex(string_ind_df[\"Day\"]).year==2020)&(pd.DatetimeIndex(string_ind_df[\"Day\"]).month<6)]"
      ],
      "execution_count": null,
      "outputs": []
    },
    {
      "cell_type": "code",
      "metadata": {
        "id": "aH_KZ04EeBCk"
      },
      "source": [
        "string_ind_df = string_ind_df.groupby(\"Entity\")[\"stringency_index\"].mean()"
      ],
      "execution_count": null,
      "outputs": []
    },
    {
      "cell_type": "code",
      "metadata": {
        "id": "ggHiOh2jeeu9"
      },
      "source": [
        "combined_new_df = pd.merge(left = combined_new_df, right = string_ind_df, how = 'left', left_on= 'Country', right_on = 'Entity')"
      ],
      "execution_count": null,
      "outputs": []
    },
    {
      "cell_type": "code",
      "metadata": {
        "id": "Xpy1G5i3fNWv"
      },
      "source": [
        "combined_new_df = combined_new_df.drop('Dem_state', axis = 1)"
      ],
      "execution_count": null,
      "outputs": []
    },
    {
      "cell_type": "code",
      "metadata": {
        "id": "bVpyCv-Gihhr"
      },
      "source": [
        "combined_new_df = combined_new_df.drop(labels = ['Scale_PSS10_UCLA_1', 'Scale_PSS10_UCLA_2', 'Scale_PSS10_UCLA_3',\n",
        "       'Scale_PSS10_UCLA_4', 'Scale_PSS10_UCLA_5', 'Scale_PSS10_UCLA_6',\n",
        "       'Scale_PSS10_UCLA_7', 'Scale_PSS10_UCLA_8', 'Scale_PSS10_UCLA_9',\n",
        "       'Scale_PSS10_UCLA_10',], axis = 1)"
      ],
      "execution_count": null,
      "outputs": []
    },
    {
      "cell_type": "code",
      "metadata": {
        "id": "gA72zu4WjRCg"
      },
      "source": [
        "new_list = ['Expl_Coping_1', 'Expl_Coping_2', 'Expl_Coping_3', 'Expl_Coping_4',\n",
        "       'Expl_Coping_5', 'Expl_Coping_6', 'Expl_Coping_7', 'Expl_Coping_8',\n",
        "       'Expl_Coping_9', 'Expl_Coping_10', 'Expl_Coping_11', 'Expl_Coping_12',\n",
        "       'Expl_Coping_13', 'Expl_Coping_14', 'Expl_Coping_15', 'Expl_Coping_16']\n",
        "\n",
        "combined_new_df['Avg_Coping'] = combined_new_df['Expl_Coping_1']\n",
        "for i in new_list:\n",
        "  combined_new_df['Avg_Coping'] += combined_new_df[i]/16"
      ],
      "execution_count": null,
      "outputs": []
    },
    {
      "cell_type": "code",
      "metadata": {
        "id": "sPdAJWDgkq4Z"
      },
      "source": [
        "combined_new_df = combined_new_df.drop(labels = ['Expl_Coping_1', 'Expl_Coping_2', 'Expl_Coping_3', 'Expl_Coping_4',\n",
        "       'Expl_Coping_5', 'Expl_Coping_6', 'Expl_Coping_7', 'Expl_Coping_8',\n",
        "       'Expl_Coping_9', 'Expl_Coping_10', 'Expl_Coping_11', 'Expl_Coping_12',\n",
        "       'Expl_Coping_13', 'Expl_Coping_14', 'Expl_Coping_15', 'Expl_Coping_16'], axis = 1)"
      ],
      "execution_count": null,
      "outputs": []
    },
    {
      "cell_type": "markdown",
      "metadata": {
        "id": "7DQXahwRieYq"
      },
      "source": [
        "# Label Encoding Categorical variable"
      ]
    },
    {
      "cell_type": "code",
      "metadata": {
        "id": "hvajk42V2xiN"
      },
      "source": [
        "combined_new_df_cat =combined_new_df.select_dtypes(['object']).apply(pd.Series.astype,dtype='category')"
      ],
      "execution_count": null,
      "outputs": []
    },
    {
      "cell_type": "code",
      "metadata": {
        "id": "c__A7ozD3LrJ"
      },
      "source": [
        "cols=combined_new_df_cat.select_dtypes(['category']).columns.to_list()"
      ],
      "execution_count": null,
      "outputs": []
    },
    {
      "cell_type": "code",
      "metadata": {
        "id": "wxzSRSj_5hnN"
      },
      "source": [
        "combined_new_df_nona = combined_new_df_cat.dropna(how = \"any\")"
      ],
      "execution_count": null,
      "outputs": []
    },
    {
      "cell_type": "code",
      "metadata": {
        "colab": {
          "base_uri": "https://localhost:8080/"
        },
        "id": "8gYE3Qkz45kv",
        "outputId": "6a8174df-84fb-4209-8090-64042c92472b"
      },
      "source": [
        "for k in combined_new_df_nona.columns:\n",
        " print(k, combined_new_df_nona[k].isnull().values.any())"
      ],
      "execution_count": null,
      "outputs": [
        {
          "output_type": "stream",
          "name": "stdout",
          "text": [
            "Dem_gender False\n",
            "Dem_edu False\n",
            "Dem_edu_mom False\n",
            "Dem_employment False\n",
            "Country False\n",
            "Dem_Expat False\n",
            "Dem_maritalstatus False\n",
            "Dem_riskgroup False\n",
            "Dem_isolation False\n"
          ]
        }
      ]
    },
    {
      "cell_type": "code",
      "metadata": {
        "colab": {
          "base_uri": "https://localhost:8080/"
        },
        "id": "HlQJpDNy0SV5",
        "outputId": "fba1af4a-5d3b-4315-ecb1-3ee270ba1834"
      },
      "source": [
        "from sklearn.preprocessing import LabelEncoder\n",
        "label_object = {}\n",
        "for col in cols:\n",
        "    labelencoder = LabelEncoder()\n",
        "    labelencoder.fit(combined_new_df_nona[col])\n",
        "    combined_new_df_nona[col] = labelencoder.fit_transform(combined_new_df_nona[col])\n",
        "    label_object[col] = labelencoder\n",
        "\n"
      ],
      "execution_count": null,
      "outputs": [
        {
          "output_type": "stream",
          "name": "stderr",
          "text": [
            "/usr/local/lib/python3.7/dist-packages/ipykernel_launcher.py:6: SettingWithCopyWarning: \n",
            "A value is trying to be set on a copy of a slice from a DataFrame.\n",
            "Try using .loc[row_indexer,col_indexer] = value instead\n",
            "\n",
            "See the caveats in the documentation: https://pandas.pydata.org/pandas-docs/stable/user_guide/indexing.html#returning-a-view-versus-a-copy\n",
            "  \n"
          ]
        }
      ]
    },
    {
      "cell_type": "code",
      "metadata": {
        "id": "v5kOq7Vs7EHR"
      },
      "source": [
        "for i in combined_new_df_nona.columns:\n",
        "  combined_new_df[i] = combined_new_df_nona[i]"
      ],
      "execution_count": null,
      "outputs": []
    },
    {
      "cell_type": "code",
      "metadata": {
        "id": "v1kmNNTX7pNj"
      },
      "source": [
        "combined_final = combined_new_df.drop(labels = ['Unnamed: 0', 'Dem_isolation_adults', 'Dem_isolation_kids', 'AD_gain', 'AD_loss'] , axis = 1)"
      ],
      "execution_count": null,
      "outputs": []
    },
    {
      "cell_type": "code",
      "metadata": {
        "id": "Z6nwazDz9HJR"
      },
      "source": [
        "combined_final_small = combined_final.dropna(how = \"any\")"
      ],
      "execution_count": null,
      "outputs": []
    },
    {
      "cell_type": "code",
      "metadata": {
        "id": "QCJ1smnM-43h"
      },
      "source": [
        "X_values = combined_final_small.columns.to_list()"
      ],
      "execution_count": null,
      "outputs": []
    },
    {
      "cell_type": "code",
      "metadata": {
        "id": "GtvUKhlP5-g8"
      },
      "source": [
        "(X_values).remove('avg_stress')"
      ],
      "execution_count": null,
      "outputs": []
    },
    {
      "cell_type": "code",
      "metadata": {
        "id": "_mvqUZij6noP"
      },
      "source": [
        "(X_values).remove('PSS10_avg')"
      ],
      "execution_count": null,
      "outputs": []
    },
    {
      "cell_type": "markdown",
      "metadata": {
        "id": "YVPlr5PjsR-D"
      },
      "source": [
        "# AdaBoost "
      ]
    },
    {
      "cell_type": "code",
      "metadata": {
        "id": "5yJEwq1SjTXz"
      },
      "source": [
        "bins = [0, 1, 2, 3, 4, 5, 6]\n",
        "labels = [1,2,3,4,5,6]"
      ],
      "execution_count": null,
      "outputs": []
    },
    {
      "cell_type": "code",
      "metadata": {
        "colab": {
          "base_uri": "https://localhost:8080/"
        },
        "id": "XceEhPH8jWto",
        "outputId": "d991c428-5d77-42dc-a33e-e66d541532dc"
      },
      "source": [
        "combined_final_small['avg_stress'] = pd.cut(combined_final_small['avg_stress'], bins = bins, labels =labels)"
      ],
      "execution_count": null,
      "outputs": [
        {
          "output_type": "stream",
          "name": "stderr",
          "text": [
            "/usr/local/lib/python3.7/dist-packages/ipykernel_launcher.py:1: SettingWithCopyWarning: \n",
            "A value is trying to be set on a copy of a slice from a DataFrame.\n",
            "Try using .loc[row_indexer,col_indexer] = value instead\n",
            "\n",
            "See the caveats in the documentation: https://pandas.pydata.org/pandas-docs/stable/user_guide/indexing.html#returning-a-view-versus-a-copy\n",
            "  \"\"\"Entry point for launching an IPython kernel.\n"
          ]
        }
      ]
    },
    {
      "cell_type": "code",
      "metadata": {
        "id": "VUiB5_eDiqYx"
      },
      "source": [
        "X = combined_final_small[X_values]\n",
        "y = combined_final_small['avg_stress']"
      ],
      "execution_count": null,
      "outputs": []
    },
    {
      "cell_type": "code",
      "metadata": {
        "colab": {
          "base_uri": "https://localhost:8080/",
          "height": 461
        },
        "id": "U_MX2DFts6cW",
        "outputId": "5d67e2b7-8695-4c67-de84-61b1757a51e0"
      },
      "source": [
        "X"
      ],
      "execution_count": null,
      "outputs": [
        {
          "output_type": "execute_result",
          "data": {
            "text/html": [
              "<div>\n",
              "<style scoped>\n",
              "    .dataframe tbody tr th:only-of-type {\n",
              "        vertical-align: middle;\n",
              "    }\n",
              "\n",
              "    .dataframe tbody tr th {\n",
              "        vertical-align: top;\n",
              "    }\n",
              "\n",
              "    .dataframe thead th {\n",
              "        text-align: right;\n",
              "    }\n",
              "</style>\n",
              "<table border=\"1\" class=\"dataframe\">\n",
              "  <thead>\n",
              "    <tr style=\"text-align: right;\">\n",
              "      <th></th>\n",
              "      <th>Dem_age</th>\n",
              "      <th>Dem_gender</th>\n",
              "      <th>Dem_edu</th>\n",
              "      <th>Dem_edu_mom</th>\n",
              "      <th>Dem_employment</th>\n",
              "      <th>Country</th>\n",
              "      <th>Dem_Expat</th>\n",
              "      <th>Dem_maritalstatus</th>\n",
              "      <th>Dem_dependents</th>\n",
              "      <th>Dem_riskgroup</th>\n",
              "      <th>Dem_isolation</th>\n",
              "      <th>Scale_SLON_1</th>\n",
              "      <th>Scale_SLON_2</th>\n",
              "      <th>Scale_SLON_3</th>\n",
              "      <th>OECD_people_1</th>\n",
              "      <th>OECD_people_2</th>\n",
              "      <th>OECD_insititutions_1</th>\n",
              "      <th>OECD_insititutions_2</th>\n",
              "      <th>OECD_insititutions_3</th>\n",
              "      <th>OECD_insititutions_4</th>\n",
              "      <th>OECD_insititutions_5</th>\n",
              "      <th>OECD_insititutions_6</th>\n",
              "      <th>Corona_concerns_1</th>\n",
              "      <th>Corona_concerns_2</th>\n",
              "      <th>Corona_concerns_3</th>\n",
              "      <th>Corona_concerns_4</th>\n",
              "      <th>Corona_concerns_5</th>\n",
              "      <th>Trust_countrymeasure</th>\n",
              "      <th>Compliance_1</th>\n",
              "      <th>Compliance_2</th>\n",
              "      <th>Compliance_3</th>\n",
              "      <th>Compliance_4</th>\n",
              "      <th>Compliance_5</th>\n",
              "      <th>Compliance_6</th>\n",
              "      <th>Expl_media_1</th>\n",
              "      <th>Expl_media_2</th>\n",
              "      <th>Expl_media_3</th>\n",
              "      <th>Expl_media_4</th>\n",
              "      <th>Expl_media_5</th>\n",
              "      <th>Expl_media_6</th>\n",
              "      <th>Avg_10-19</th>\n",
              "      <th>stringency_index</th>\n",
              "      <th>Avg_Coping</th>\n",
              "    </tr>\n",
              "  </thead>\n",
              "  <tbody>\n",
              "    <tr>\n",
              "      <th>4</th>\n",
              "      <td>68</td>\n",
              "      <td>1.0</td>\n",
              "      <td>0.0</td>\n",
              "      <td>0.0</td>\n",
              "      <td>3.0</td>\n",
              "      <td>69.0</td>\n",
              "      <td>0.0</td>\n",
              "      <td>1.0</td>\n",
              "      <td>0.0</td>\n",
              "      <td>0.0</td>\n",
              "      <td>4.0</td>\n",
              "      <td>2</td>\n",
              "      <td>2</td>\n",
              "      <td>3</td>\n",
              "      <td>7</td>\n",
              "      <td>7</td>\n",
              "      <td>7</td>\n",
              "      <td>7</td>\n",
              "      <td>8</td>\n",
              "      <td>8</td>\n",
              "      <td>7</td>\n",
              "      <td>8</td>\n",
              "      <td>5</td>\n",
              "      <td>5</td>\n",
              "      <td>5</td>\n",
              "      <td>5</td>\n",
              "      <td>5</td>\n",
              "      <td>5</td>\n",
              "      <td>5</td>\n",
              "      <td>5</td>\n",
              "      <td>5</td>\n",
              "      <td>4</td>\n",
              "      <td>4</td>\n",
              "      <td>1</td>\n",
              "      <td>5.0</td>\n",
              "      <td>5.0</td>\n",
              "      <td>5.0</td>\n",
              "      <td>5.0</td>\n",
              "      <td>5.0</td>\n",
              "      <td>5.0</td>\n",
              "      <td>75.28</td>\n",
              "      <td>64.064394</td>\n",
              "      <td>9.1875</td>\n",
              "    </tr>\n",
              "    <tr>\n",
              "      <th>18</th>\n",
              "      <td>69</td>\n",
              "      <td>0.0</td>\n",
              "      <td>2.0</td>\n",
              "      <td>6.0</td>\n",
              "      <td>3.0</td>\n",
              "      <td>96.0</td>\n",
              "      <td>0.0</td>\n",
              "      <td>0.0</td>\n",
              "      <td>0.0</td>\n",
              "      <td>2.0</td>\n",
              "      <td>1.0</td>\n",
              "      <td>1</td>\n",
              "      <td>3</td>\n",
              "      <td>1</td>\n",
              "      <td>8</td>\n",
              "      <td>10</td>\n",
              "      <td>8</td>\n",
              "      <td>0</td>\n",
              "      <td>5</td>\n",
              "      <td>3</td>\n",
              "      <td>2</td>\n",
              "      <td>4</td>\n",
              "      <td>5</td>\n",
              "      <td>5</td>\n",
              "      <td>5</td>\n",
              "      <td>3</td>\n",
              "      <td>5</td>\n",
              "      <td>2</td>\n",
              "      <td>6</td>\n",
              "      <td>6</td>\n",
              "      <td>5</td>\n",
              "      <td>1</td>\n",
              "      <td>6</td>\n",
              "      <td>6</td>\n",
              "      <td>6.0</td>\n",
              "      <td>2.0</td>\n",
              "      <td>4.0</td>\n",
              "      <td>4.0</td>\n",
              "      <td>5.0</td>\n",
              "      <td>4.0</td>\n",
              "      <td>51.50</td>\n",
              "      <td>42.804621</td>\n",
              "      <td>9.9375</td>\n",
              "    </tr>\n",
              "    <tr>\n",
              "      <th>19</th>\n",
              "      <td>28</td>\n",
              "      <td>0.0</td>\n",
              "      <td>2.0</td>\n",
              "      <td>7.0</td>\n",
              "      <td>0.0</td>\n",
              "      <td>49.0</td>\n",
              "      <td>1.0</td>\n",
              "      <td>1.0</td>\n",
              "      <td>0.0</td>\n",
              "      <td>0.0</td>\n",
              "      <td>4.0</td>\n",
              "      <td>2</td>\n",
              "      <td>2</td>\n",
              "      <td>3</td>\n",
              "      <td>5</td>\n",
              "      <td>9</td>\n",
              "      <td>1</td>\n",
              "      <td>1</td>\n",
              "      <td>7</td>\n",
              "      <td>7</td>\n",
              "      <td>7</td>\n",
              "      <td>4</td>\n",
              "      <td>2</td>\n",
              "      <td>5</td>\n",
              "      <td>3</td>\n",
              "      <td>6</td>\n",
              "      <td>6</td>\n",
              "      <td>0</td>\n",
              "      <td>6</td>\n",
              "      <td>6</td>\n",
              "      <td>5</td>\n",
              "      <td>2</td>\n",
              "      <td>2</td>\n",
              "      <td>2</td>\n",
              "      <td>4.0</td>\n",
              "      <td>4.0</td>\n",
              "      <td>4.0</td>\n",
              "      <td>5.0</td>\n",
              "      <td>2.0</td>\n",
              "      <td>2.0</td>\n",
              "      <td>79.11</td>\n",
              "      <td>56.309167</td>\n",
              "      <td>7.5625</td>\n",
              "    </tr>\n",
              "    <tr>\n",
              "      <th>20</th>\n",
              "      <td>67</td>\n",
              "      <td>0.0</td>\n",
              "      <td>3.0</td>\n",
              "      <td>7.0</td>\n",
              "      <td>3.0</td>\n",
              "      <td>96.0</td>\n",
              "      <td>0.0</td>\n",
              "      <td>0.0</td>\n",
              "      <td>1.0</td>\n",
              "      <td>0.0</td>\n",
              "      <td>2.0</td>\n",
              "      <td>1</td>\n",
              "      <td>1</td>\n",
              "      <td>1</td>\n",
              "      <td>7</td>\n",
              "      <td>9</td>\n",
              "      <td>2</td>\n",
              "      <td>2</td>\n",
              "      <td>3</td>\n",
              "      <td>3</td>\n",
              "      <td>8</td>\n",
              "      <td>3</td>\n",
              "      <td>0</td>\n",
              "      <td>0</td>\n",
              "      <td>0</td>\n",
              "      <td>2</td>\n",
              "      <td>0</td>\n",
              "      <td>0</td>\n",
              "      <td>0</td>\n",
              "      <td>0</td>\n",
              "      <td>0</td>\n",
              "      <td>0</td>\n",
              "      <td>0</td>\n",
              "      <td>0</td>\n",
              "      <td>5.0</td>\n",
              "      <td>6.0</td>\n",
              "      <td>3.0</td>\n",
              "      <td>6.0</td>\n",
              "      <td>4.0</td>\n",
              "      <td>5.0</td>\n",
              "      <td>51.50</td>\n",
              "      <td>42.804621</td>\n",
              "      <td>8.0625</td>\n",
              "    </tr>\n",
              "    <tr>\n",
              "      <th>28</th>\n",
              "      <td>33</td>\n",
              "      <td>0.0</td>\n",
              "      <td>0.0</td>\n",
              "      <td>0.0</td>\n",
              "      <td>0.0</td>\n",
              "      <td>158.0</td>\n",
              "      <td>1.0</td>\n",
              "      <td>3.0</td>\n",
              "      <td>0.0</td>\n",
              "      <td>0.0</td>\n",
              "      <td>4.0</td>\n",
              "      <td>2</td>\n",
              "      <td>4</td>\n",
              "      <td>4</td>\n",
              "      <td>6</td>\n",
              "      <td>8</td>\n",
              "      <td>3</td>\n",
              "      <td>2</td>\n",
              "      <td>3</td>\n",
              "      <td>2</td>\n",
              "      <td>2</td>\n",
              "      <td>3</td>\n",
              "      <td>4</td>\n",
              "      <td>4</td>\n",
              "      <td>4</td>\n",
              "      <td>3</td>\n",
              "      <td>5</td>\n",
              "      <td>2</td>\n",
              "      <td>5</td>\n",
              "      <td>6</td>\n",
              "      <td>5</td>\n",
              "      <td>4</td>\n",
              "      <td>3</td>\n",
              "      <td>4</td>\n",
              "      <td>4.0</td>\n",
              "      <td>6.0</td>\n",
              "      <td>5.0</td>\n",
              "      <td>2.0</td>\n",
              "      <td>4.0</td>\n",
              "      <td>1.0</td>\n",
              "      <td>69.16</td>\n",
              "      <td>45.521061</td>\n",
              "      <td>4.7500</td>\n",
              "    </tr>\n",
              "    <tr>\n",
              "      <th>...</th>\n",
              "      <td>...</td>\n",
              "      <td>...</td>\n",
              "      <td>...</td>\n",
              "      <td>...</td>\n",
              "      <td>...</td>\n",
              "      <td>...</td>\n",
              "      <td>...</td>\n",
              "      <td>...</td>\n",
              "      <td>...</td>\n",
              "      <td>...</td>\n",
              "      <td>...</td>\n",
              "      <td>...</td>\n",
              "      <td>...</td>\n",
              "      <td>...</td>\n",
              "      <td>...</td>\n",
              "      <td>...</td>\n",
              "      <td>...</td>\n",
              "      <td>...</td>\n",
              "      <td>...</td>\n",
              "      <td>...</td>\n",
              "      <td>...</td>\n",
              "      <td>...</td>\n",
              "      <td>...</td>\n",
              "      <td>...</td>\n",
              "      <td>...</td>\n",
              "      <td>...</td>\n",
              "      <td>...</td>\n",
              "      <td>...</td>\n",
              "      <td>...</td>\n",
              "      <td>...</td>\n",
              "      <td>...</td>\n",
              "      <td>...</td>\n",
              "      <td>...</td>\n",
              "      <td>...</td>\n",
              "      <td>...</td>\n",
              "      <td>...</td>\n",
              "      <td>...</td>\n",
              "      <td>...</td>\n",
              "      <td>...</td>\n",
              "      <td>...</td>\n",
              "      <td>...</td>\n",
              "      <td>...</td>\n",
              "      <td>...</td>\n",
              "    </tr>\n",
              "    <tr>\n",
              "      <th>116087</th>\n",
              "      <td>58</td>\n",
              "      <td>1.0</td>\n",
              "      <td>0.0</td>\n",
              "      <td>7.0</td>\n",
              "      <td>4.0</td>\n",
              "      <td>38.0</td>\n",
              "      <td>1.0</td>\n",
              "      <td>1.0</td>\n",
              "      <td>3.0</td>\n",
              "      <td>2.0</td>\n",
              "      <td>4.0</td>\n",
              "      <td>1</td>\n",
              "      <td>1</td>\n",
              "      <td>1</td>\n",
              "      <td>9</td>\n",
              "      <td>10</td>\n",
              "      <td>6</td>\n",
              "      <td>7</td>\n",
              "      <td>7</td>\n",
              "      <td>8</td>\n",
              "      <td>7</td>\n",
              "      <td>8</td>\n",
              "      <td>2</td>\n",
              "      <td>2</td>\n",
              "      <td>3</td>\n",
              "      <td>5</td>\n",
              "      <td>5</td>\n",
              "      <td>6</td>\n",
              "      <td>6</td>\n",
              "      <td>6</td>\n",
              "      <td>6</td>\n",
              "      <td>1</td>\n",
              "      <td>5</td>\n",
              "      <td>1</td>\n",
              "      <td>6.0</td>\n",
              "      <td>3.0</td>\n",
              "      <td>4.0</td>\n",
              "      <td>1.0</td>\n",
              "      <td>5.0</td>\n",
              "      <td>2.0</td>\n",
              "      <td>83.95</td>\n",
              "      <td>44.100833</td>\n",
              "      <td>8.2500</td>\n",
              "    </tr>\n",
              "    <tr>\n",
              "      <th>116088</th>\n",
              "      <td>28</td>\n",
              "      <td>1.0</td>\n",
              "      <td>0.0</td>\n",
              "      <td>5.0</td>\n",
              "      <td>0.0</td>\n",
              "      <td>38.0</td>\n",
              "      <td>1.0</td>\n",
              "      <td>3.0</td>\n",
              "      <td>0.0</td>\n",
              "      <td>1.0</td>\n",
              "      <td>1.0</td>\n",
              "      <td>1</td>\n",
              "      <td>1</td>\n",
              "      <td>5</td>\n",
              "      <td>3</td>\n",
              "      <td>6</td>\n",
              "      <td>9</td>\n",
              "      <td>9</td>\n",
              "      <td>9</td>\n",
              "      <td>9</td>\n",
              "      <td>9</td>\n",
              "      <td>7</td>\n",
              "      <td>1</td>\n",
              "      <td>3</td>\n",
              "      <td>2</td>\n",
              "      <td>5</td>\n",
              "      <td>5</td>\n",
              "      <td>6</td>\n",
              "      <td>6</td>\n",
              "      <td>3</td>\n",
              "      <td>2</td>\n",
              "      <td>2</td>\n",
              "      <td>4</td>\n",
              "      <td>1</td>\n",
              "      <td>5.0</td>\n",
              "      <td>3.0</td>\n",
              "      <td>6.0</td>\n",
              "      <td>3.0</td>\n",
              "      <td>6.0</td>\n",
              "      <td>1.0</td>\n",
              "      <td>83.95</td>\n",
              "      <td>44.100833</td>\n",
              "      <td>8.0000</td>\n",
              "    </tr>\n",
              "    <tr>\n",
              "      <th>116091</th>\n",
              "      <td>33</td>\n",
              "      <td>1.0</td>\n",
              "      <td>3.0</td>\n",
              "      <td>5.0</td>\n",
              "      <td>0.0</td>\n",
              "      <td>38.0</td>\n",
              "      <td>1.0</td>\n",
              "      <td>3.0</td>\n",
              "      <td>0.0</td>\n",
              "      <td>1.0</td>\n",
              "      <td>4.0</td>\n",
              "      <td>3</td>\n",
              "      <td>2</td>\n",
              "      <td>2</td>\n",
              "      <td>6</td>\n",
              "      <td>8</td>\n",
              "      <td>6</td>\n",
              "      <td>7</td>\n",
              "      <td>8</td>\n",
              "      <td>8</td>\n",
              "      <td>9</td>\n",
              "      <td>8</td>\n",
              "      <td>4</td>\n",
              "      <td>5</td>\n",
              "      <td>4</td>\n",
              "      <td>5</td>\n",
              "      <td>6</td>\n",
              "      <td>4</td>\n",
              "      <td>5</td>\n",
              "      <td>5</td>\n",
              "      <td>4</td>\n",
              "      <td>2</td>\n",
              "      <td>3</td>\n",
              "      <td>4</td>\n",
              "      <td>5.0</td>\n",
              "      <td>5.0</td>\n",
              "      <td>5.0</td>\n",
              "      <td>3.0</td>\n",
              "      <td>3.0</td>\n",
              "      <td>4.0</td>\n",
              "      <td>83.95</td>\n",
              "      <td>44.100833</td>\n",
              "      <td>7.8125</td>\n",
              "    </tr>\n",
              "    <tr>\n",
              "      <th>116095</th>\n",
              "      <td>54</td>\n",
              "      <td>1.0</td>\n",
              "      <td>3.0</td>\n",
              "      <td>3.0</td>\n",
              "      <td>0.0</td>\n",
              "      <td>38.0</td>\n",
              "      <td>1.0</td>\n",
              "      <td>1.0</td>\n",
              "      <td>0.0</td>\n",
              "      <td>1.0</td>\n",
              "      <td>4.0</td>\n",
              "      <td>2</td>\n",
              "      <td>2</td>\n",
              "      <td>1</td>\n",
              "      <td>7</td>\n",
              "      <td>9</td>\n",
              "      <td>7</td>\n",
              "      <td>8</td>\n",
              "      <td>8</td>\n",
              "      <td>6</td>\n",
              "      <td>6</td>\n",
              "      <td>7</td>\n",
              "      <td>3</td>\n",
              "      <td>2</td>\n",
              "      <td>2</td>\n",
              "      <td>4</td>\n",
              "      <td>5</td>\n",
              "      <td>8</td>\n",
              "      <td>6</td>\n",
              "      <td>5</td>\n",
              "      <td>5</td>\n",
              "      <td>1</td>\n",
              "      <td>5</td>\n",
              "      <td>4</td>\n",
              "      <td>2.0</td>\n",
              "      <td>2.0</td>\n",
              "      <td>2.0</td>\n",
              "      <td>2.0</td>\n",
              "      <td>2.0</td>\n",
              "      <td>5.0</td>\n",
              "      <td>83.95</td>\n",
              "      <td>44.100833</td>\n",
              "      <td>9.1250</td>\n",
              "    </tr>\n",
              "    <tr>\n",
              "      <th>116096</th>\n",
              "      <td>57</td>\n",
              "      <td>0.0</td>\n",
              "      <td>5.0</td>\n",
              "      <td>5.0</td>\n",
              "      <td>3.0</td>\n",
              "      <td>38.0</td>\n",
              "      <td>1.0</td>\n",
              "      <td>3.0</td>\n",
              "      <td>0.0</td>\n",
              "      <td>2.0</td>\n",
              "      <td>4.0</td>\n",
              "      <td>4</td>\n",
              "      <td>4</td>\n",
              "      <td>5</td>\n",
              "      <td>5</td>\n",
              "      <td>5</td>\n",
              "      <td>5</td>\n",
              "      <td>5</td>\n",
              "      <td>5</td>\n",
              "      <td>1</td>\n",
              "      <td>0</td>\n",
              "      <td>5</td>\n",
              "      <td>5</td>\n",
              "      <td>5</td>\n",
              "      <td>5</td>\n",
              "      <td>6</td>\n",
              "      <td>6</td>\n",
              "      <td>10</td>\n",
              "      <td>5</td>\n",
              "      <td>5</td>\n",
              "      <td>5</td>\n",
              "      <td>5</td>\n",
              "      <td>5</td>\n",
              "      <td>4</td>\n",
              "      <td>6.0</td>\n",
              "      <td>6.0</td>\n",
              "      <td>6.0</td>\n",
              "      <td>1.0</td>\n",
              "      <td>1.0</td>\n",
              "      <td>1.0</td>\n",
              "      <td>83.95</td>\n",
              "      <td>44.100833</td>\n",
              "      <td>8.8125</td>\n",
              "    </tr>\n",
              "  </tbody>\n",
              "</table>\n",
              "<p>63552 rows × 43 columns</p>\n",
              "</div>"
            ],
            "text/plain": [
              "        Dem_age  Dem_gender  Dem_edu  ...  Avg_10-19  stringency_index  Avg_Coping\n",
              "4            68         1.0      0.0  ...      75.28         64.064394      9.1875\n",
              "18           69         0.0      2.0  ...      51.50         42.804621      9.9375\n",
              "19           28         0.0      2.0  ...      79.11         56.309167      7.5625\n",
              "20           67         0.0      3.0  ...      51.50         42.804621      8.0625\n",
              "28           33         0.0      0.0  ...      69.16         45.521061      4.7500\n",
              "...         ...         ...      ...  ...        ...               ...         ...\n",
              "116087       58         1.0      0.0  ...      83.95         44.100833      8.2500\n",
              "116088       28         1.0      0.0  ...      83.95         44.100833      8.0000\n",
              "116091       33         1.0      3.0  ...      83.95         44.100833      7.8125\n",
              "116095       54         1.0      3.0  ...      83.95         44.100833      9.1250\n",
              "116096       57         0.0      5.0  ...      83.95         44.100833      8.8125\n",
              "\n",
              "[63552 rows x 43 columns]"
            ]
          },
          "metadata": {},
          "execution_count": 34
        }
      ]
    },
    {
      "cell_type": "code",
      "metadata": {
        "id": "hgSOOSgojhca"
      },
      "source": [
        "from sklearn.ensemble import AdaBoostClassifier\n"
      ],
      "execution_count": null,
      "outputs": []
    },
    {
      "cell_type": "code",
      "metadata": {
        "id": "7Sli7F7xkiM1"
      },
      "source": [
        "clf2 = AdaBoostClassifier(n_estimators=100)"
      ],
      "execution_count": null,
      "outputs": []
    },
    {
      "cell_type": "code",
      "metadata": {
        "colab": {
          "base_uri": "https://localhost:8080/"
        },
        "id": "Ja0qJ09tk364",
        "outputId": "8a633eda-ad46-426c-a4f8-bfa3164638ad"
      },
      "source": [
        "clf2.fit(X,y)"
      ],
      "execution_count": null,
      "outputs": [
        {
          "output_type": "execute_result",
          "data": {
            "text/plain": [
              "AdaBoostClassifier(n_estimators=100)"
            ]
          },
          "metadata": {},
          "execution_count": 57
        }
      ]
    },
    {
      "cell_type": "markdown",
      "metadata": {
        "id": "tZQM_nvmr8A_"
      },
      "source": [
        "Adaboost (estimators = 100) accuracy = 0.607140609264854\n",
        "\n",
        "The accuracy is not changing if the number of estimators are changed. "
      ]
    },
    {
      "cell_type": "code",
      "metadata": {
        "colab": {
          "base_uri": "https://localhost:8080/"
        },
        "id": "8UjgISZ78gxT",
        "outputId": "866b24b7-69ba-4341-8a30-e8eaaaacecae"
      },
      "source": [
        "y"
      ],
      "execution_count": null,
      "outputs": [
        {
          "output_type": "execute_result",
          "data": {
            "text/plain": [
              "4         3\n",
              "18        3\n",
              "19        4\n",
              "20        4\n",
              "28        4\n",
              "         ..\n",
              "116087    3\n",
              "116088    3\n",
              "116091    4\n",
              "116095    4\n",
              "116096    5\n",
              "Name: avg_stress, Length: 63552, dtype: category\n",
              "Categories (6, int64): [1 < 2 < 3 < 4 < 5 < 6]"
            ]
          },
          "metadata": {},
          "execution_count": 66
        }
      ]
    },
    {
      "cell_type": "code",
      "metadata": {
        "colab": {
          "base_uri": "https://localhost:8080/"
        },
        "id": "hvvN1v2_k6Iz",
        "outputId": "bdcfb17d-edaf-4882-8e05-ddcc1370a672"
      },
      "source": [
        "clf2.score(X,y)"
      ],
      "execution_count": null,
      "outputs": [
        {
          "output_type": "execute_result",
          "data": {
            "text/plain": [
              "0.607140609264854"
            ]
          },
          "metadata": {},
          "execution_count": 58
        }
      ]
    },
    {
      "cell_type": "code",
      "metadata": {
        "colab": {
          "base_uri": "https://localhost:8080/"
        },
        "id": "678DmUV1sv58",
        "outputId": "5079ee00-6a30-4a88-c9d5-635ceb4ada9d"
      },
      "source": [
        "clf2.feature_importances_"
      ],
      "execution_count": null,
      "outputs": [
        {
          "output_type": "execute_result",
          "data": {
            "text/plain": [
              "array([0. , 0. , 0. , 0. , 0. , 0. , 0. , 0. , 0. , 0. , 0. , 0. , 0.5,\n",
              "       0.5, 0. , 0. , 0. , 0. , 0. , 0. , 0. , 0. , 0. , 0. , 0. , 0. ,\n",
              "       0. , 0. , 0. , 0. , 0. , 0. , 0. , 0. , 0. , 0. , 0. , 0. , 0. ,\n",
              "       0. , 0. , 0. , 0. ])"
            ]
          },
          "metadata": {},
          "execution_count": 39
        }
      ]
    },
    {
      "cell_type": "code",
      "metadata": {
        "colab": {
          "base_uri": "https://localhost:8080/"
        },
        "id": "_b5NO09I7qzf",
        "outputId": "664176a8-ffad-4df3-cc3c-5f12811f3b84"
      },
      "source": [
        "clf2.n_classes_"
      ],
      "execution_count": null,
      "outputs": [
        {
          "output_type": "execute_result",
          "data": {
            "text/plain": [
              "6"
            ]
          },
          "metadata": {},
          "execution_count": 61
        }
      ]
    },
    {
      "cell_type": "code",
      "metadata": {
        "colab": {
          "base_uri": "https://localhost:8080/"
        },
        "id": "47MtkVgm73LS",
        "outputId": "79e30bde-7f16-4747-9b06-24adee927d6e"
      },
      "source": [
        "clf2.base_estimator_"
      ],
      "execution_count": null,
      "outputs": [
        {
          "output_type": "execute_result",
          "data": {
            "text/plain": [
              "DecisionTreeClassifier(max_depth=1)"
            ]
          },
          "metadata": {},
          "execution_count": 62
        }
      ]
    },
    {
      "cell_type": "code",
      "metadata": {
        "colab": {
          "base_uri": "https://localhost:8080/"
        },
        "id": "e2BHzYk48H41",
        "outputId": "df17fe95-8d1c-4364-b6d3-4c60c927554b"
      },
      "source": [
        "clf2.estimators_"
      ],
      "execution_count": null,
      "outputs": [
        {
          "output_type": "execute_result",
          "data": {
            "text/plain": [
              "[DecisionTreeClassifier(max_depth=1, random_state=1527225429),\n",
              " DecisionTreeClassifier(max_depth=1, random_state=1566425714),\n",
              " DecisionTreeClassifier(max_depth=1, random_state=2131284226),\n",
              " DecisionTreeClassifier(max_depth=1, random_state=36800022),\n",
              " DecisionTreeClassifier(max_depth=1, random_state=774282736),\n",
              " DecisionTreeClassifier(max_depth=1, random_state=362375058),\n",
              " DecisionTreeClassifier(max_depth=1, random_state=1320268738),\n",
              " DecisionTreeClassifier(max_depth=1, random_state=1042269041),\n",
              " DecisionTreeClassifier(max_depth=1, random_state=687288615),\n",
              " DecisionTreeClassifier(max_depth=1, random_state=377777004),\n",
              " DecisionTreeClassifier(max_depth=1, random_state=1394526991),\n",
              " DecisionTreeClassifier(max_depth=1, random_state=2021755093),\n",
              " DecisionTreeClassifier(max_depth=1, random_state=1741081501),\n",
              " DecisionTreeClassifier(max_depth=1, random_state=1345700984),\n",
              " DecisionTreeClassifier(max_depth=1, random_state=1361993276),\n",
              " DecisionTreeClassifier(max_depth=1, random_state=757692661),\n",
              " DecisionTreeClassifier(max_depth=1, random_state=727822484),\n",
              " DecisionTreeClassifier(max_depth=1, random_state=1780813174),\n",
              " DecisionTreeClassifier(max_depth=1, random_state=1788952822),\n",
              " DecisionTreeClassifier(max_depth=1, random_state=1425698128),\n",
              " DecisionTreeClassifier(max_depth=1, random_state=104405472),\n",
              " DecisionTreeClassifier(max_depth=1, random_state=1790017420),\n",
              " DecisionTreeClassifier(max_depth=1, random_state=104678287),\n",
              " DecisionTreeClassifier(max_depth=1, random_state=1005778901),\n",
              " DecisionTreeClassifier(max_depth=1, random_state=1785334928),\n",
              " DecisionTreeClassifier(max_depth=1, random_state=375591919),\n",
              " DecisionTreeClassifier(max_depth=1, random_state=847393631),\n",
              " DecisionTreeClassifier(max_depth=1, random_state=2141000959),\n",
              " DecisionTreeClassifier(max_depth=1, random_state=577905004),\n",
              " DecisionTreeClassifier(max_depth=1, random_state=1925580228),\n",
              " DecisionTreeClassifier(max_depth=1, random_state=2112262043),\n",
              " DecisionTreeClassifier(max_depth=1, random_state=964936150),\n",
              " DecisionTreeClassifier(max_depth=1, random_state=964256923),\n",
              " DecisionTreeClassifier(max_depth=1, random_state=1893340721),\n",
              " DecisionTreeClassifier(max_depth=1, random_state=30474142),\n",
              " DecisionTreeClassifier(max_depth=1, random_state=953615500),\n",
              " DecisionTreeClassifier(max_depth=1, random_state=237796463),\n",
              " DecisionTreeClassifier(max_depth=1, random_state=319854939),\n",
              " DecisionTreeClassifier(max_depth=1, random_state=74579916),\n",
              " DecisionTreeClassifier(max_depth=1, random_state=98618085),\n",
              " DecisionTreeClassifier(max_depth=1, random_state=204480328),\n",
              " DecisionTreeClassifier(max_depth=1, random_state=1298615684),\n",
              " DecisionTreeClassifier(max_depth=1, random_state=1913583779),\n",
              " DecisionTreeClassifier(max_depth=1, random_state=1152301129),\n",
              " DecisionTreeClassifier(max_depth=1, random_state=861424610),\n",
              " DecisionTreeClassifier(max_depth=1, random_state=1010525100),\n",
              " DecisionTreeClassifier(max_depth=1, random_state=1798513290),\n",
              " DecisionTreeClassifier(max_depth=1, random_state=1020869643),\n",
              " DecisionTreeClassifier(max_depth=1, random_state=480217527),\n",
              " DecisionTreeClassifier(max_depth=1, random_state=331799721),\n",
              " DecisionTreeClassifier(max_depth=1, random_state=1979321218),\n",
              " DecisionTreeClassifier(max_depth=1, random_state=654922274),\n",
              " DecisionTreeClassifier(max_depth=1, random_state=1200627313),\n",
              " DecisionTreeClassifier(max_depth=1, random_state=540223769),\n",
              " DecisionTreeClassifier(max_depth=1, random_state=1432019189),\n",
              " DecisionTreeClassifier(max_depth=1, random_state=2135062217),\n",
              " DecisionTreeClassifier(max_depth=1, random_state=1237780740),\n",
              " DecisionTreeClassifier(max_depth=1, random_state=1527805783),\n",
              " DecisionTreeClassifier(max_depth=1, random_state=1739260798),\n",
              " DecisionTreeClassifier(max_depth=1, random_state=1108101617),\n",
              " DecisionTreeClassifier(max_depth=1, random_state=1107433412),\n",
              " DecisionTreeClassifier(max_depth=1, random_state=554119708),\n",
              " DecisionTreeClassifier(max_depth=1, random_state=784875283),\n",
              " DecisionTreeClassifier(max_depth=1, random_state=720032372),\n",
              " DecisionTreeClassifier(max_depth=1, random_state=2130020722),\n",
              " DecisionTreeClassifier(max_depth=1, random_state=1766843063),\n",
              " DecisionTreeClassifier(max_depth=1, random_state=556031165),\n",
              " DecisionTreeClassifier(max_depth=1, random_state=82744543),\n",
              " DecisionTreeClassifier(max_depth=1, random_state=511647542),\n",
              " DecisionTreeClassifier(max_depth=1, random_state=1731084705),\n",
              " DecisionTreeClassifier(max_depth=1, random_state=1732475159),\n",
              " DecisionTreeClassifier(max_depth=1, random_state=315634610),\n",
              " DecisionTreeClassifier(max_depth=1, random_state=2100482844),\n",
              " DecisionTreeClassifier(max_depth=1, random_state=179731006),\n",
              " DecisionTreeClassifier(max_depth=1, random_state=451978904),\n",
              " DecisionTreeClassifier(max_depth=1, random_state=732717852),\n",
              " DecisionTreeClassifier(max_depth=1, random_state=840878589),\n",
              " DecisionTreeClassifier(max_depth=1, random_state=1632096488),\n",
              " DecisionTreeClassifier(max_depth=1, random_state=308972940),\n",
              " DecisionTreeClassifier(max_depth=1, random_state=654962407),\n",
              " DecisionTreeClassifier(max_depth=1, random_state=526440156),\n",
              " DecisionTreeClassifier(max_depth=1, random_state=1402170733),\n",
              " DecisionTreeClassifier(max_depth=1, random_state=1763016716),\n",
              " DecisionTreeClassifier(max_depth=1, random_state=1441247800),\n",
              " DecisionTreeClassifier(max_depth=1, random_state=371969472),\n",
              " DecisionTreeClassifier(max_depth=1, random_state=1293467701),\n",
              " DecisionTreeClassifier(max_depth=1, random_state=1748470937),\n",
              " DecisionTreeClassifier(max_depth=1, random_state=1891086208),\n",
              " DecisionTreeClassifier(max_depth=1, random_state=19447330),\n",
              " DecisionTreeClassifier(max_depth=1, random_state=1334964077),\n",
              " DecisionTreeClassifier(max_depth=1, random_state=713711400),\n",
              " DecisionTreeClassifier(max_depth=1, random_state=1400476626),\n",
              " DecisionTreeClassifier(max_depth=1, random_state=1551884340),\n",
              " DecisionTreeClassifier(max_depth=1, random_state=1965211091),\n",
              " DecisionTreeClassifier(max_depth=1, random_state=616156097),\n",
              " DecisionTreeClassifier(max_depth=1, random_state=507782453),\n",
              " DecisionTreeClassifier(max_depth=1, random_state=655354762),\n",
              " DecisionTreeClassifier(max_depth=1, random_state=1882933134),\n",
              " DecisionTreeClassifier(max_depth=1, random_state=906469731),\n",
              " DecisionTreeClassifier(max_depth=1, random_state=1817892101)]"
            ]
          },
          "metadata": {},
          "execution_count": 63
        }
      ]
    },
    {
      "cell_type": "code",
      "metadata": {
        "colab": {
          "base_uri": "https://localhost:8080/"
        },
        "id": "nPQUu9DL8W7k",
        "outputId": "9f7c3153-d379-4c11-d370-4470bf37a4d1"
      },
      "source": [
        "clf2.estimator_weights_"
      ],
      "execution_count": null,
      "outputs": [
        {
          "output_type": "execute_result",
          "data": {
            "text/plain": [
              "array([1., 1., 1., 1., 1., 1., 1., 1., 1., 1., 1., 1., 1., 1., 1., 1., 1.,\n",
              "       1., 1., 1., 1., 1., 1., 1., 1., 1., 1., 1., 1., 1., 1., 1., 1., 1.,\n",
              "       1., 1., 1., 1., 1., 1., 1., 1., 1., 1., 1., 1., 1., 1., 1., 1., 1.,\n",
              "       1., 1., 1., 1., 1., 1., 1., 1., 1., 1., 1., 1., 1., 1., 1., 1., 1.,\n",
              "       1., 1., 1., 1., 1., 1., 1., 1., 1., 1., 1., 1., 1., 1., 1., 1., 1.,\n",
              "       1., 1., 1., 1., 1., 1., 1., 1., 1., 1., 1., 1., 1., 1., 1.])"
            ]
          },
          "metadata": {},
          "execution_count": 64
        }
      ]
    },
    {
      "cell_type": "code",
      "metadata": {
        "colab": {
          "base_uri": "https://localhost:8080/"
        },
        "id": "toTGHr169fvW",
        "outputId": "2773efdc-9a2e-4da0-ad87-35a56d4f5c6a"
      },
      "source": [
        "clf2.estimator_errors_"
      ],
      "execution_count": null,
      "outputs": [
        {
          "output_type": "execute_result",
          "data": {
            "text/plain": [
              "array([0.39259189, 0.666906  , 0.66670989, 0.66674911, 0.66667367,\n",
              "       0.66668106, 0.66666943, 0.66667212, 0.66666842, 0.66666984,\n",
              "       0.6666681 , 0.66666901, 0.66666799, 0.66666865, 0.66666797,\n",
              "       0.66666847, 0.66666799, 0.66666839, 0.66666803, 0.66666835,\n",
              "       0.66666807, 0.66666833, 0.66666811, 0.66666832, 0.66666814,\n",
              "       0.66666832, 0.66666818, 0.66666832, 0.66666821, 0.66666832,\n",
              "       0.66666823, 0.66666832, 0.66666825, 0.66666833, 0.66666827,\n",
              "       0.66666833, 0.66666828, 0.66666833, 0.66666829, 0.66666834,\n",
              "       0.6666683 , 0.66666834, 0.66666831, 0.66666834, 0.66666832,\n",
              "       0.66666834, 0.66666832, 0.66666834, 0.66666833, 0.66666834,\n",
              "       0.66666833, 0.66666834, 0.66666834, 0.66666835, 0.66666834,\n",
              "       0.66666835, 0.66666834, 0.66666835, 0.66666834, 0.66666835,\n",
              "       0.66666834, 0.66666835, 0.66666834, 0.66666835, 0.66666834,\n",
              "       0.66666835, 0.66666835, 0.66666835, 0.66666835, 0.66666835,\n",
              "       0.66666835, 0.66666835, 0.66666835, 0.66666835, 0.66666835,\n",
              "       0.66666835, 0.66666835, 0.66666835, 0.66666835, 0.66666835,\n",
              "       0.66666835, 0.66666835, 0.66666835, 0.66666835, 0.66666835,\n",
              "       0.66666835, 0.66666835, 0.66666835, 0.66666835, 0.66666835,\n",
              "       0.66666835, 0.66666835, 0.66666835, 0.66666835, 0.66666835,\n",
              "       0.66666835, 0.66666835, 0.66666835, 0.66666835, 0.66666835])"
            ]
          },
          "metadata": {},
          "execution_count": 67
        }
      ]
    },
    {
      "cell_type": "markdown",
      "metadata": {
        "id": "dDzFgZeUrd3x"
      },
      "source": [
        "# AdaBoost using repeated stratified k-fold cross-validation, with three repeats and 10 folds. "
      ]
    },
    {
      "cell_type": "code",
      "metadata": {
        "id": "Jn99objjpJ2D"
      },
      "source": [
        "from sklearn.model_selection import cross_val_score\n",
        "from sklearn.model_selection import RepeatedStratifiedKFold\n",
        "# evaluate adaboost algorithm for classification\n",
        "from numpy import mean\n",
        "from numpy import std"
      ],
      "execution_count": null,
      "outputs": []
    },
    {
      "cell_type": "code",
      "metadata": {
        "id": "CkmbG_RIpW43"
      },
      "source": [
        "clf3 = AdaBoostClassifier(n_estimators=100)"
      ],
      "execution_count": null,
      "outputs": []
    },
    {
      "cell_type": "code",
      "metadata": {
        "id": "HpV92_6dpEU6"
      },
      "source": [
        "cv = RepeatedStratifiedKFold(n_splits=10, n_repeats=3, random_state=1)"
      ],
      "execution_count": null,
      "outputs": []
    },
    {
      "cell_type": "code",
      "metadata": {
        "id": "9pT-zK5opOYZ"
      },
      "source": [
        "n_scores = cross_val_score(clf3, X, y, scoring='accuracy', cv=cv, n_jobs=-1, error_score='raise')\n"
      ],
      "execution_count": null,
      "outputs": []
    },
    {
      "cell_type": "code",
      "metadata": {
        "colab": {
          "base_uri": "https://localhost:8080/"
        },
        "id": "ZY5nD3X33_Pt",
        "outputId": "120cb015-e217-4a43-fad4-ab91699437cf"
      },
      "source": [
        "n_scores"
      ],
      "execution_count": null,
      "outputs": [
        {
          "output_type": "execute_result",
          "data": {
            "text/plain": [
              "array([0.60462555, 0.61359346, 0.59653816, 0.60991345, 0.61195909,\n",
              "       0.60047207, 0.60991345, 0.60692368, 0.60550747, 0.61195909,\n",
              "       0.60478288, 0.60997483, 0.60708104, 0.60629426, 0.60959874,\n",
              "       0.60346184, 0.60487805, 0.60818253, 0.60660897, 0.61054288,\n",
              "       0.6003776 , 0.60179358, 0.60519276, 0.60409127, 0.60173092,\n",
              "       0.61148702, 0.61636507, 0.6086546 , 0.6122738 , 0.60944138])"
            ]
          },
          "metadata": {},
          "execution_count": 59
        }
      ]
    },
    {
      "cell_type": "markdown",
      "metadata": {
        "id": "HnwSh0O4r6LN"
      },
      "source": [
        "Mean accuracy = 0.607, std dev = 0.004"
      ]
    },
    {
      "cell_type": "code",
      "metadata": {
        "colab": {
          "base_uri": "https://localhost:8080/"
        },
        "id": "Ta6LDZoBpeT0",
        "outputId": "d8b64062-bea6-4049-c544-7e070c75e117"
      },
      "source": [
        "print('Accuracy: %.3f (%.3f)' % (mean(n_scores), std(n_scores)))"
      ],
      "execution_count": null,
      "outputs": [
        {
          "output_type": "stream",
          "name": "stdout",
          "text": [
            "Accuracy: 0.607 (0.004)\n"
          ]
        }
      ]
    },
    {
      "cell_type": "markdown",
      "metadata": {
        "id": "KYFPNQ3qz4fL"
      },
      "source": [
        "# Permutation_importance to obtain important features"
      ]
    },
    {
      "cell_type": "code",
      "metadata": {
        "id": "Q4lgm0rcuMGe"
      },
      "source": [
        "clf4 = AdaBoostClassifier(n_estimators=100)"
      ],
      "execution_count": null,
      "outputs": []
    },
    {
      "cell_type": "code",
      "metadata": {
        "colab": {
          "base_uri": "https://localhost:8080/"
        },
        "id": "xY-uh806upQW",
        "outputId": "efe71bd4-70c0-4f76-ae56-3439f84619d0"
      },
      "source": [
        "clf4.fit(X,y)"
      ],
      "execution_count": null,
      "outputs": [
        {
          "output_type": "execute_result",
          "data": {
            "text/plain": [
              "AdaBoostClassifier(n_estimators=100)"
            ]
          },
          "metadata": {},
          "execution_count": 46
        }
      ]
    },
    {
      "cell_type": "code",
      "metadata": {
        "id": "SwX8bySTuRew"
      },
      "source": [
        "from sklearn.inspection import permutation_importance\n",
        "\n",
        "result = permutation_importance(clf4, X, y,random_state=0)"
      ],
      "execution_count": null,
      "outputs": []
    },
    {
      "cell_type": "markdown",
      "metadata": {
        "id": "meoQdgcH0B__"
      },
      "source": [
        "This implies that Scale_SLON_2 and Scale_SLON_3 are significant in classifying avg_stress. This re-iterates what we've seen with Decision trees. Every other feature seems to have a very low significance. "
      ]
    },
    {
      "cell_type": "code",
      "metadata": {
        "colab": {
          "base_uri": "https://localhost:8080/"
        },
        "id": "aDbPGp3Auj7k",
        "outputId": "47df0df0-7ffe-494b-e142-ce52866e854b"
      },
      "source": [
        "result.importances_mean"
      ],
      "execution_count": null,
      "outputs": [
        {
          "output_type": "execute_result",
          "data": {
            "text/plain": [
              "array([0.        , 0.        , 0.        , 0.        , 0.        ,\n",
              "       0.        , 0.        , 0.        , 0.        , 0.        ,\n",
              "       0.        , 0.        , 0.10358761, 0.00015735, 0.        ,\n",
              "       0.        , 0.        , 0.        , 0.        , 0.        ,\n",
              "       0.        , 0.        , 0.        , 0.        , 0.        ,\n",
              "       0.        , 0.        , 0.        , 0.        , 0.        ,\n",
              "       0.        , 0.        , 0.        , 0.        , 0.        ,\n",
              "       0.        , 0.        , 0.        , 0.        , 0.        ,\n",
              "       0.        , 0.        , 0.        ])"
            ]
          },
          "metadata": {},
          "execution_count": 48
        }
      ]
    },
    {
      "cell_type": "code",
      "metadata": {
        "colab": {
          "base_uri": "https://localhost:8080/"
        },
        "id": "IhQhpQWaukrZ",
        "outputId": "c98a2fdd-5f11-49f6-cd17-b8da948ca6ab"
      },
      "source": [
        "result.importances_std"
      ],
      "execution_count": null,
      "outputs": [
        {
          "output_type": "execute_result",
          "data": {
            "text/plain": [
              "array([0.00000000e+00, 0.00000000e+00, 0.00000000e+00, 0.00000000e+00,\n",
              "       0.00000000e+00, 0.00000000e+00, 0.00000000e+00, 0.00000000e+00,\n",
              "       0.00000000e+00, 0.00000000e+00, 0.00000000e+00, 0.00000000e+00,\n",
              "       2.24364423e-03, 9.64860883e-05, 0.00000000e+00, 0.00000000e+00,\n",
              "       0.00000000e+00, 0.00000000e+00, 0.00000000e+00, 0.00000000e+00,\n",
              "       0.00000000e+00, 0.00000000e+00, 0.00000000e+00, 0.00000000e+00,\n",
              "       0.00000000e+00, 0.00000000e+00, 0.00000000e+00, 0.00000000e+00,\n",
              "       0.00000000e+00, 0.00000000e+00, 0.00000000e+00, 0.00000000e+00,\n",
              "       0.00000000e+00, 0.00000000e+00, 0.00000000e+00, 0.00000000e+00,\n",
              "       0.00000000e+00, 0.00000000e+00, 0.00000000e+00, 0.00000000e+00,\n",
              "       0.00000000e+00, 0.00000000e+00, 0.00000000e+00])"
            ]
          },
          "metadata": {},
          "execution_count": 49
        }
      ]
    },
    {
      "cell_type": "markdown",
      "metadata": {
        "id": "FZIvusR-zAWq"
      },
      "source": [
        "# XGBOOST"
      ]
    },
    {
      "cell_type": "markdown",
      "metadata": {
        "id": "pZT92S1s-xMq"
      },
      "source": [
        "XGBOOST"
      ]
    },
    {
      "cell_type": "code",
      "metadata": {
        "id": "ti0dI_16-yje"
      },
      "source": [
        "import xgboost as xgb\n",
        "from sklearn.metrics import mean_squared_error\n",
        "import pandas as pd\n",
        "import numpy as np"
      ],
      "execution_count": null,
      "outputs": []
    },
    {
      "cell_type": "code",
      "metadata": {
        "id": "E1YxOQQOCcnu"
      },
      "source": [
        "y = y.replace({1: 0, 2: 1,3: 2, 4: 3,5: 4, 6: 5})"
      ],
      "execution_count": null,
      "outputs": []
    },
    {
      "cell_type": "code",
      "metadata": {
        "id": "gJ7m4qAq-7hY"
      },
      "source": [
        "from sklearn.model_selection import train_test_split\n",
        "\n",
        "X_train, X_test, y_train, y_test = train_test_split(X, y, test_size=0.2, random_state=123)"
      ],
      "execution_count": null,
      "outputs": []
    },
    {
      "cell_type": "code",
      "metadata": {
        "id": "zJuZTGL0-_C7"
      },
      "source": [
        "xg_reg = xgb.XGBRegressor(objective ='multi:softmax', colsample_bytree = 0.3, learning_rate = 0.1,\n",
        "                max_depth = 5, alpha = 10, n_estimators = 100, num_class = 6)"
      ],
      "execution_count": null,
      "outputs": []
    },
    {
      "cell_type": "code",
      "metadata": {
        "id": "fLM62Vwz_HXZ"
      },
      "source": [
        "\n",
        "xg_reg.fit(X_train,y_train)\n",
        "\n",
        "preds = xg_reg.predict(X_test)"
      ],
      "execution_count": null,
      "outputs": []
    },
    {
      "cell_type": "code",
      "metadata": {
        "colab": {
          "base_uri": "https://localhost:8080/"
        },
        "id": "ep047Vdk_8VS",
        "outputId": "011231ca-7055-4095-b55b-370d94a55a6c"
      },
      "source": [
        "from sklearn.metrics import accuracy_score\n",
        "accuracy_score(y_test, preds)"
      ],
      "execution_count": null,
      "outputs": [
        {
          "output_type": "execute_result",
          "data": {
            "text/plain": [
              "0.6713869876484935"
            ]
          },
          "metadata": {},
          "execution_count": 110
        }
      ]
    },
    {
      "cell_type": "code",
      "metadata": {
        "colab": {
          "base_uri": "https://localhost:8080/"
        },
        "id": "Ih1dAsYdFsIN",
        "outputId": "7557c1e2-806d-4310-dcfc-ec29fafc5db4"
      },
      "source": [
        "from sklearn.metrics import cohen_kappa_score\n",
        "cohen_kappa_score(y_test, preds)"
      ],
      "execution_count": null,
      "outputs": [
        {
          "output_type": "execute_result",
          "data": {
            "text/plain": [
              "0.3233801493182632"
            ]
          },
          "metadata": {},
          "execution_count": 113
        }
      ]
    },
    {
      "cell_type": "code",
      "metadata": {
        "colab": {
          "base_uri": "https://localhost:8080/"
        },
        "id": "UTQMZQ9eF4l-",
        "outputId": "6342cc57-166d-4c78-d0d4-64496cd14fe0"
      },
      "source": [
        "from sklearn.metrics import precision_score\n",
        "precision_score(y_test, preds, average= 'micro')"
      ],
      "execution_count": null,
      "outputs": [
        {
          "output_type": "execute_result",
          "data": {
            "text/plain": [
              "0.6721737078121313"
            ]
          },
          "metadata": {},
          "execution_count": 115
        }
      ]
    }
  ]
}